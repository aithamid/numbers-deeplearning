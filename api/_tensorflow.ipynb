{
 "cells": [
  {
   "cell_type": "code",
   "execution_count": 30,
   "metadata": {
    "ExecuteTime": {
     "end_time": "2024-05-28T13:54:59.282665500Z",
     "start_time": "2024-05-28T13:54:59.277807600Z"
    }
   },
   "outputs": [],
   "source": [
    "import numpy as np\n",
    "import pandas as pd\n",
    "import tensorflow as tf\n",
    "from tensorflow.keras import layers,models,Input,preprocessing \n",
    "from tensorflow.keras.preprocessing.image import ImageDataGenerator\n",
    "from tensorflow.keras.datasets import mnist"
   ]
  },
  {
   "cell_type": "markdown",
   "metadata": {},
   "source": [
    "# 1. Load the dataset\n",
    "## a) Keras mnist dataset\n",
    "The keras library has a pre-implemented dataset for the mnist images.\n",
    "The `load_data` function already splits the data in train and test sets."
   ]
  },
  {
   "cell_type": "code",
   "execution_count": 31,
   "metadata": {
    "ExecuteTime": {
     "end_time": "2024-05-28T13:55:00.436913100Z",
     "start_time": "2024-05-28T13:55:00.275400100Z"
    }
   },
   "outputs": [
    {
     "name": "stdout",
     "output_type": "stream",
     "text": [
      "(60000, 28, 28)\n",
      "(10000, 28, 28)\n"
     ]
    }
   ],
   "source": [
    "# Load the mnist data\n",
    "(x_train, y_train), (x_test, y_test) = mnist.load_data()\n",
    "\n",
    "print(x_train.shape) # train set, 60 000 entries\n",
    "print(x_test.shape) # test set, 10 000 entries"
   ]
  },
  {
   "cell_type": "markdown",
   "source": [
    "## b) Data augmentation\n",
    "Enriching a dataset is a good way of optimizing a model's performance.\n",
    "Data-augmentation is a concept in which more data is generated from an existing set.\n",
    "As described in [Chris Deotte's post](https://www.kaggle.com/code/cdeotte/25-million-images-0-99757-mnist), the mnist dataset can be augmented by manipulating the data through subtle transformations of rotation, scaling and translation."
   ],
   "metadata": {
    "collapsed": false
   }
  },
  {
   "cell_type": "code",
   "execution_count": 32,
   "metadata": {
    "ExecuteTime": {
     "end_time": "2024-05-28T13:55:01.874551200Z",
     "start_time": "2024-05-28T13:55:01.732572400Z"
    }
   },
   "outputs": [],
   "source": [
    "# Reshape inputs for data generation\n",
    "x_train = x_train.reshape((x_train.shape[0], 28, 28, 1))\n",
    "x_test = x_test.reshape((x_test.shape[0], 28, 28, 1))\n",
    "\n",
    "# Convert labels to one-hot encoding\n",
    "y_train = tf.keras.utils.to_categorical(y_train, 10)\n",
    "y_test = tf.keras.utils.to_categorical(y_test, 10)\n",
    "\n",
    "# Data augmentation generator\n",
    "datagen = ImageDataGenerator(\n",
    "    rotation_range=10,\n",
    "    zoom_range=0.1,\n",
    "    width_shift_range=0.1,\n",
    "    height_shift_range=0.1\n",
    ")\n",
    "\n",
    "# Initialize the data generator\n",
    "datagen.fit(x_train)\n",
    "datagen_generator = datagen.flow(x_train, y_train, batch_size=32)"
   ]
  },
  {
   "cell_type": "code",
   "execution_count": 33,
   "outputs": [
    {
     "name": "stdout",
     "output_type": "stream",
     "text": [
      "(90000, 28, 28)\n",
      "(90000, 10)\n"
     ]
    }
   ],
   "source": [
    "# The number of images to generate\n",
    "augment_size = 30000\n",
    "x_augmented = np.zeros((augment_size, 28, 28, 1))\n",
    "y_augmented = np.zeros((augment_size, 10))\n",
    "\n",
    "# Accumulator for the number of samples processed\n",
    "data_processed = 0\n",
    "\n",
    "# Generate augmented data\n",
    "while data_processed < augment_size:\n",
    "    x_batch, y_batch = next(datagen_generator)\n",
    "    batch_size = x_batch.shape[0]\n",
    "\n",
    "    if data_processed + batch_size > augment_size:\n",
    "        batch_size = data_processed + batch_size - augment_size\n",
    "                \n",
    "        x_augmented[data_processed:data_processed+batch_size] = x_batch[:batch_size]\n",
    "        y_augmented[data_processed:data_processed+batch_size] = y_batch[:batch_size]\n",
    "    else:\n",
    "        x_augmented[data_processed:data_processed+batch_size] = x_batch\n",
    "        y_augmented[data_processed:data_processed+batch_size] = y_batch\n",
    "    \n",
    "    data_processed += batch_size\n",
    "\n",
    "# Remove channel dimension for training\n",
    "x_train = np.concatenate([x_train, x_augmented])\n",
    "y_train = np.concatenate([y_train, y_augmented])\n",
    "\n",
    "# Resizing the output for the train\n",
    "x_train = x_train.reshape((x_train.shape[0], 28, 28))\n",
    "\n",
    "print(x_train.shape)\n",
    "print(y_train.shape)"
   ],
   "metadata": {
    "collapsed": false,
    "ExecuteTime": {
     "end_time": "2024-05-28T13:55:06.167346700Z",
     "start_time": "2024-05-28T13:55:02.682768800Z"
    }
   }
  },
  {
   "cell_type": "markdown",
   "metadata": {},
   "source": [
    "# 2. Model implementation\n",
    "The keras library makes it really easy to implement convolutional neural network.\n",
    "One of the most popular choices for handwritten digits recognition neural networks is Yann Lecun's LeNet-5 architecture."
   ]
  },
  {
   "cell_type": "code",
   "execution_count": 45,
   "metadata": {
    "ExecuteTime": {
     "end_time": "2024-05-28T14:15:40.203903200Z",
     "start_time": "2024-05-28T14:15:40.161414200Z"
    }
   },
   "outputs": [
    {
     "data": {
      "text/plain": "\u001B[1mModel: \"sequential_5\"\u001B[0m\n",
      "text/html": "<pre style=\"white-space:pre;overflow-x:auto;line-height:normal;font-family:Menlo,'DejaVu Sans Mono',consolas,'Courier New',monospace\"><span style=\"font-weight: bold\">Model: \"sequential_5\"</span>\n</pre>\n"
     },
     "metadata": {},
     "output_type": "display_data"
    },
    {
     "data": {
      "text/plain": "┏━━━━━━━━━━━━━━━━━━━━━━━━━━━━━━━━━┳━━━━━━━━━━━━━━━━━━━━━━━━┳━━━━━━━━━━━━━━━┓\n┃\u001B[1m \u001B[0m\u001B[1mLayer (type)                   \u001B[0m\u001B[1m \u001B[0m┃\u001B[1m \u001B[0m\u001B[1mOutput Shape          \u001B[0m\u001B[1m \u001B[0m┃\u001B[1m \u001B[0m\u001B[1m      Param #\u001B[0m\u001B[1m \u001B[0m┃\n┡━━━━━━━━━━━━━━━━━━━━━━━━━━━━━━━━━╇━━━━━━━━━━━━━━━━━━━━━━━━╇━━━━━━━━━━━━━━━┩\n│ conv2d_15 (\u001B[38;5;33mConv2D\u001B[0m)              │ (\u001B[38;5;45mNone\u001B[0m, \u001B[38;5;34m28\u001B[0m, \u001B[38;5;34m28\u001B[0m, \u001B[38;5;34m6\u001B[0m)      │           \u001B[38;5;34m156\u001B[0m │\n├─────────────────────────────────┼────────────────────────┼───────────────┤\n│ average_pooling2d_10            │ (\u001B[38;5;45mNone\u001B[0m, \u001B[38;5;34m14\u001B[0m, \u001B[38;5;34m14\u001B[0m, \u001B[38;5;34m6\u001B[0m)      │             \u001B[38;5;34m0\u001B[0m │\n│ (\u001B[38;5;33mAveragePooling2D\u001B[0m)              │                        │               │\n├─────────────────────────────────┼────────────────────────┼───────────────┤\n│ conv2d_16 (\u001B[38;5;33mConv2D\u001B[0m)              │ (\u001B[38;5;45mNone\u001B[0m, \u001B[38;5;34m10\u001B[0m, \u001B[38;5;34m10\u001B[0m, \u001B[38;5;34m16\u001B[0m)     │         \u001B[38;5;34m2,416\u001B[0m │\n├─────────────────────────────────┼────────────────────────┼───────────────┤\n│ average_pooling2d_11            │ (\u001B[38;5;45mNone\u001B[0m, \u001B[38;5;34m5\u001B[0m, \u001B[38;5;34m5\u001B[0m, \u001B[38;5;34m16\u001B[0m)       │             \u001B[38;5;34m0\u001B[0m │\n│ (\u001B[38;5;33mAveragePooling2D\u001B[0m)              │                        │               │\n├─────────────────────────────────┼────────────────────────┼───────────────┤\n│ conv2d_17 (\u001B[38;5;33mConv2D\u001B[0m)              │ (\u001B[38;5;45mNone\u001B[0m, \u001B[38;5;34m1\u001B[0m, \u001B[38;5;34m1\u001B[0m, \u001B[38;5;34m120\u001B[0m)      │        \u001B[38;5;34m48,120\u001B[0m │\n├─────────────────────────────────┼────────────────────────┼───────────────┤\n│ flatten_5 (\u001B[38;5;33mFlatten\u001B[0m)             │ (\u001B[38;5;45mNone\u001B[0m, \u001B[38;5;34m120\u001B[0m)            │             \u001B[38;5;34m0\u001B[0m │\n├─────────────────────────────────┼────────────────────────┼───────────────┤\n│ dense_10 (\u001B[38;5;33mDense\u001B[0m)                │ (\u001B[38;5;45mNone\u001B[0m, \u001B[38;5;34m84\u001B[0m)             │        \u001B[38;5;34m10,164\u001B[0m │\n├─────────────────────────────────┼────────────────────────┼───────────────┤\n│ dense_11 (\u001B[38;5;33mDense\u001B[0m)                │ (\u001B[38;5;45mNone\u001B[0m, \u001B[38;5;34m10\u001B[0m)             │           \u001B[38;5;34m850\u001B[0m │\n└─────────────────────────────────┴────────────────────────┴───────────────┘\n",
      "text/html": "<pre style=\"white-space:pre;overflow-x:auto;line-height:normal;font-family:Menlo,'DejaVu Sans Mono',consolas,'Courier New',monospace\">┏━━━━━━━━━━━━━━━━━━━━━━━━━━━━━━━━━┳━━━━━━━━━━━━━━━━━━━━━━━━┳━━━━━━━━━━━━━━━┓\n┃<span style=\"font-weight: bold\"> Layer (type)                    </span>┃<span style=\"font-weight: bold\"> Output Shape           </span>┃<span style=\"font-weight: bold\">       Param # </span>┃\n┡━━━━━━━━━━━━━━━━━━━━━━━━━━━━━━━━━╇━━━━━━━━━━━━━━━━━━━━━━━━╇━━━━━━━━━━━━━━━┩\n│ conv2d_15 (<span style=\"color: #0087ff; text-decoration-color: #0087ff\">Conv2D</span>)              │ (<span style=\"color: #00d7ff; text-decoration-color: #00d7ff\">None</span>, <span style=\"color: #00af00; text-decoration-color: #00af00\">28</span>, <span style=\"color: #00af00; text-decoration-color: #00af00\">28</span>, <span style=\"color: #00af00; text-decoration-color: #00af00\">6</span>)      │           <span style=\"color: #00af00; text-decoration-color: #00af00\">156</span> │\n├─────────────────────────────────┼────────────────────────┼───────────────┤\n│ average_pooling2d_10            │ (<span style=\"color: #00d7ff; text-decoration-color: #00d7ff\">None</span>, <span style=\"color: #00af00; text-decoration-color: #00af00\">14</span>, <span style=\"color: #00af00; text-decoration-color: #00af00\">14</span>, <span style=\"color: #00af00; text-decoration-color: #00af00\">6</span>)      │             <span style=\"color: #00af00; text-decoration-color: #00af00\">0</span> │\n│ (<span style=\"color: #0087ff; text-decoration-color: #0087ff\">AveragePooling2D</span>)              │                        │               │\n├─────────────────────────────────┼────────────────────────┼───────────────┤\n│ conv2d_16 (<span style=\"color: #0087ff; text-decoration-color: #0087ff\">Conv2D</span>)              │ (<span style=\"color: #00d7ff; text-decoration-color: #00d7ff\">None</span>, <span style=\"color: #00af00; text-decoration-color: #00af00\">10</span>, <span style=\"color: #00af00; text-decoration-color: #00af00\">10</span>, <span style=\"color: #00af00; text-decoration-color: #00af00\">16</span>)     │         <span style=\"color: #00af00; text-decoration-color: #00af00\">2,416</span> │\n├─────────────────────────────────┼────────────────────────┼───────────────┤\n│ average_pooling2d_11            │ (<span style=\"color: #00d7ff; text-decoration-color: #00d7ff\">None</span>, <span style=\"color: #00af00; text-decoration-color: #00af00\">5</span>, <span style=\"color: #00af00; text-decoration-color: #00af00\">5</span>, <span style=\"color: #00af00; text-decoration-color: #00af00\">16</span>)       │             <span style=\"color: #00af00; text-decoration-color: #00af00\">0</span> │\n│ (<span style=\"color: #0087ff; text-decoration-color: #0087ff\">AveragePooling2D</span>)              │                        │               │\n├─────────────────────────────────┼────────────────────────┼───────────────┤\n│ conv2d_17 (<span style=\"color: #0087ff; text-decoration-color: #0087ff\">Conv2D</span>)              │ (<span style=\"color: #00d7ff; text-decoration-color: #00d7ff\">None</span>, <span style=\"color: #00af00; text-decoration-color: #00af00\">1</span>, <span style=\"color: #00af00; text-decoration-color: #00af00\">1</span>, <span style=\"color: #00af00; text-decoration-color: #00af00\">120</span>)      │        <span style=\"color: #00af00; text-decoration-color: #00af00\">48,120</span> │\n├─────────────────────────────────┼────────────────────────┼───────────────┤\n│ flatten_5 (<span style=\"color: #0087ff; text-decoration-color: #0087ff\">Flatten</span>)             │ (<span style=\"color: #00d7ff; text-decoration-color: #00d7ff\">None</span>, <span style=\"color: #00af00; text-decoration-color: #00af00\">120</span>)            │             <span style=\"color: #00af00; text-decoration-color: #00af00\">0</span> │\n├─────────────────────────────────┼────────────────────────┼───────────────┤\n│ dense_10 (<span style=\"color: #0087ff; text-decoration-color: #0087ff\">Dense</span>)                │ (<span style=\"color: #00d7ff; text-decoration-color: #00d7ff\">None</span>, <span style=\"color: #00af00; text-decoration-color: #00af00\">84</span>)             │        <span style=\"color: #00af00; text-decoration-color: #00af00\">10,164</span> │\n├─────────────────────────────────┼────────────────────────┼───────────────┤\n│ dense_11 (<span style=\"color: #0087ff; text-decoration-color: #0087ff\">Dense</span>)                │ (<span style=\"color: #00d7ff; text-decoration-color: #00d7ff\">None</span>, <span style=\"color: #00af00; text-decoration-color: #00af00\">10</span>)             │           <span style=\"color: #00af00; text-decoration-color: #00af00\">850</span> │\n└─────────────────────────────────┴────────────────────────┴───────────────┘\n</pre>\n"
     },
     "metadata": {},
     "output_type": "display_data"
    },
    {
     "data": {
      "text/plain": "\u001B[1m Total params: \u001B[0m\u001B[38;5;34m61,706\u001B[0m (241.04 KB)\n",
      "text/html": "<pre style=\"white-space:pre;overflow-x:auto;line-height:normal;font-family:Menlo,'DejaVu Sans Mono',consolas,'Courier New',monospace\"><span style=\"font-weight: bold\"> Total params: </span><span style=\"color: #00af00; text-decoration-color: #00af00\">61,706</span> (241.04 KB)\n</pre>\n"
     },
     "metadata": {},
     "output_type": "display_data"
    },
    {
     "data": {
      "text/plain": "\u001B[1m Trainable params: \u001B[0m\u001B[38;5;34m61,706\u001B[0m (241.04 KB)\n",
      "text/html": "<pre style=\"white-space:pre;overflow-x:auto;line-height:normal;font-family:Menlo,'DejaVu Sans Mono',consolas,'Courier New',monospace\"><span style=\"font-weight: bold\"> Trainable params: </span><span style=\"color: #00af00; text-decoration-color: #00af00\">61,706</span> (241.04 KB)\n</pre>\n"
     },
     "metadata": {},
     "output_type": "display_data"
    },
    {
     "data": {
      "text/plain": "\u001B[1m Non-trainable params: \u001B[0m\u001B[38;5;34m0\u001B[0m (0.00 B)\n",
      "text/html": "<pre style=\"white-space:pre;overflow-x:auto;line-height:normal;font-family:Menlo,'DejaVu Sans Mono',consolas,'Courier New',monospace\"><span style=\"font-weight: bold\"> Non-trainable params: </span><span style=\"color: #00af00; text-decoration-color: #00af00\">0</span> (0.00 B)\n</pre>\n"
     },
     "metadata": {},
     "output_type": "display_data"
    }
   ],
   "source": [
    "model = models.Sequential([\n",
    "        # Input Layer\n",
    "        layers.Input(shape=(28, 28, 1)),\n",
    "        \n",
    "        # C1 Convolutional Layer\n",
    "        layers.Conv2D(filters=6, kernel_size=(5, 5), activation='relu', padding='same'),\n",
    "        \n",
    "        # S2 Pooling Layer\n",
    "        layers.AvgPool2D(pool_size=(2, 2), strides=2),\n",
    "        \n",
    "        # C3 Convolutional Layer\n",
    "        layers.Conv2D(filters=16, kernel_size=(5, 5), activation='relu'),\n",
    "        \n",
    "        # S4 Pooling Layer\n",
    "        layers.AvgPool2D(pool_size=(2, 2), strides=2),\n",
    "        \n",
    "        # C5 Fully Connected Convolutional Layer\n",
    "        layers.Conv2D(filters=120, kernel_size=(5, 5), activation='relu'),\n",
    "        \n",
    "        # Flatten the CNN output to feed it with fully connected layers\n",
    "        layers.Flatten(),\n",
    "        \n",
    "        # F6 Fully Connected Layer\n",
    "        layers.Dense(units=84, activation='relu'),\n",
    "        \n",
    "        # Output Layer with softmax activation for classification\n",
    "        layers.Dense(units=10, activation='softmax')\n",
    "])\n",
    "\n",
    "model.compile(\n",
    "    optimizer='adam',\n",
    "    loss='categorical_crossentropy',\n",
    "    metrics=['accuracy']\n",
    ")\n",
    "model.summary()"
   ]
  },
  {
   "cell_type": "markdown",
   "metadata": {},
   "source": [
    "# 3. Training"
   ]
  },
  {
   "cell_type": "code",
   "execution_count": 46,
   "metadata": {
    "ExecuteTime": {
     "end_time": "2024-05-28T14:17:44.181719600Z",
     "start_time": "2024-05-28T14:15:44.748003Z"
    }
   },
   "outputs": [
    {
     "name": "stdout",
     "output_type": "stream",
     "text": [
      "Epoch 1/20\n",
      "\u001B[1m2188/2188\u001B[0m \u001B[32m━━━━━━━━━━━━━━━━━━━━\u001B[0m\u001B[37m\u001B[0m \u001B[1m7s\u001B[0m 3ms/step - accuracy: 0.8630 - loss: 0.5407 - val_accuracy: 0.9834 - val_loss: 0.0559\n",
      "Epoch 2/20\n",
      "\u001B[1m2188/2188\u001B[0m \u001B[32m━━━━━━━━━━━━━━━━━━━━\u001B[0m\u001B[37m\u001B[0m \u001B[1m6s\u001B[0m 3ms/step - accuracy: 0.9724 - loss: 0.0904 - val_accuracy: 0.9865 - val_loss: 0.0477\n",
      "Epoch 3/20\n",
      "\u001B[1m2188/2188\u001B[0m \u001B[32m━━━━━━━━━━━━━━━━━━━━\u001B[0m\u001B[37m\u001B[0m \u001B[1m6s\u001B[0m 3ms/step - accuracy: 0.9791 - loss: 0.0671 - val_accuracy: 0.9884 - val_loss: 0.0378\n",
      "Epoch 4/20\n",
      "\u001B[1m2188/2188\u001B[0m \u001B[32m━━━━━━━━━━━━━━━━━━━━\u001B[0m\u001B[37m\u001B[0m \u001B[1m6s\u001B[0m 3ms/step - accuracy: 0.9842 - loss: 0.0502 - val_accuracy: 0.9897 - val_loss: 0.0355\n",
      "Epoch 5/20\n",
      "\u001B[1m2188/2188\u001B[0m \u001B[32m━━━━━━━━━━━━━━━━━━━━\u001B[0m\u001B[37m\u001B[0m \u001B[1m6s\u001B[0m 3ms/step - accuracy: 0.9868 - loss: 0.0417 - val_accuracy: 0.9871 - val_loss: 0.0467\n",
      "Epoch 6/20\n",
      "\u001B[1m2188/2188\u001B[0m \u001B[32m━━━━━━━━━━━━━━━━━━━━\u001B[0m\u001B[37m\u001B[0m \u001B[1m6s\u001B[0m 3ms/step - accuracy: 0.9881 - loss: 0.0382 - val_accuracy: 0.9892 - val_loss: 0.0391\n",
      "Epoch 7/20\n",
      "\u001B[1m2188/2188\u001B[0m \u001B[32m━━━━━━━━━━━━━━━━━━━━\u001B[0m\u001B[37m\u001B[0m \u001B[1m6s\u001B[0m 3ms/step - accuracy: 0.9889 - loss: 0.0342 - val_accuracy: 0.9910 - val_loss: 0.0344\n",
      "Epoch 8/20\n",
      "\u001B[1m2188/2188\u001B[0m \u001B[32m━━━━━━━━━━━━━━━━━━━━\u001B[0m\u001B[37m\u001B[0m \u001B[1m6s\u001B[0m 3ms/step - accuracy: 0.9912 - loss: 0.0291 - val_accuracy: 0.9903 - val_loss: 0.0320\n",
      "Epoch 9/20\n",
      "\u001B[1m2188/2188\u001B[0m \u001B[32m━━━━━━━━━━━━━━━━━━━━\u001B[0m\u001B[37m\u001B[0m \u001B[1m6s\u001B[0m 3ms/step - accuracy: 0.9921 - loss: 0.0257 - val_accuracy: 0.9889 - val_loss: 0.0421\n",
      "Epoch 10/20\n",
      "\u001B[1m2188/2188\u001B[0m \u001B[32m━━━━━━━━━━━━━━━━━━━━\u001B[0m\u001B[37m\u001B[0m \u001B[1m6s\u001B[0m 3ms/step - accuracy: 0.9924 - loss: 0.0245 - val_accuracy: 0.9909 - val_loss: 0.0371\n",
      "Epoch 11/20\n",
      "\u001B[1m2188/2188\u001B[0m \u001B[32m━━━━━━━━━━━━━━━━━━━━\u001B[0m\u001B[37m\u001B[0m \u001B[1m6s\u001B[0m 3ms/step - accuracy: 0.9941 - loss: 0.0199 - val_accuracy: 0.9898 - val_loss: 0.0407\n",
      "Epoch 12/20\n",
      "\u001B[1m2188/2188\u001B[0m \u001B[32m━━━━━━━━━━━━━━━━━━━━\u001B[0m\u001B[37m\u001B[0m \u001B[1m6s\u001B[0m 3ms/step - accuracy: 0.9935 - loss: 0.0236 - val_accuracy: 0.9901 - val_loss: 0.0444\n",
      "Epoch 13/20\n",
      "\u001B[1m2188/2188\u001B[0m \u001B[32m━━━━━━━━━━━━━━━━━━━━\u001B[0m\u001B[37m\u001B[0m \u001B[1m6s\u001B[0m 3ms/step - accuracy: 0.9937 - loss: 0.0203 - val_accuracy: 0.9894 - val_loss: 0.0464\n",
      "Epoch 14/20\n",
      "\u001B[1m2188/2188\u001B[0m \u001B[32m━━━━━━━━━━━━━━━━━━━━\u001B[0m\u001B[37m\u001B[0m \u001B[1m6s\u001B[0m 3ms/step - accuracy: 0.9944 - loss: 0.0199 - val_accuracy: 0.9901 - val_loss: 0.0464\n",
      "Epoch 15/20\n",
      "\u001B[1m2188/2188\u001B[0m \u001B[32m━━━━━━━━━━━━━━━━━━━━\u001B[0m\u001B[37m\u001B[0m \u001B[1m6s\u001B[0m 3ms/step - accuracy: 0.9942 - loss: 0.0190 - val_accuracy: 0.9893 - val_loss: 0.0477\n",
      "Epoch 16/20\n",
      "\u001B[1m2188/2188\u001B[0m \u001B[32m━━━━━━━━━━━━━━━━━━━━\u001B[0m\u001B[37m\u001B[0m \u001B[1m6s\u001B[0m 3ms/step - accuracy: 0.9947 - loss: 0.0209 - val_accuracy: 0.9881 - val_loss: 0.0616\n",
      "Epoch 17/20\n",
      "\u001B[1m2188/2188\u001B[0m \u001B[32m━━━━━━━━━━━━━━━━━━━━\u001B[0m\u001B[37m\u001B[0m \u001B[1m6s\u001B[0m 3ms/step - accuracy: 0.9937 - loss: 0.0213 - val_accuracy: 0.9877 - val_loss: 0.0677\n",
      "Epoch 18/20\n",
      "\u001B[1m2188/2188\u001B[0m \u001B[32m━━━━━━━━━━━━━━━━━━━━\u001B[0m\u001B[37m\u001B[0m \u001B[1m6s\u001B[0m 3ms/step - accuracy: 0.9953 - loss: 0.0158 - val_accuracy: 0.9863 - val_loss: 0.0589\n",
      "Epoch 19/20\n",
      "\u001B[1m2188/2188\u001B[0m \u001B[32m━━━━━━━━━━━━━━━━━━━━\u001B[0m\u001B[37m\u001B[0m \u001B[1m6s\u001B[0m 3ms/step - accuracy: 0.9957 - loss: 0.0163 - val_accuracy: 0.9853 - val_loss: 0.0769\n",
      "Epoch 20/20\n",
      "\u001B[1m2188/2188\u001B[0m \u001B[32m━━━━━━━━━━━━━━━━━━━━\u001B[0m\u001B[37m\u001B[0m \u001B[1m6s\u001B[0m 3ms/step - accuracy: 0.9957 - loss: 0.0151 - val_accuracy: 0.9919 - val_loss: 0.0506\n"
     ]
    }
   ],
   "source": [
    "x_valid = x_train[:10000]\n",
    "y_valid = y_train[:10000]\n",
    "x_train = x_train[10000:x_train.shape[0]]\n",
    "y_train = y_train[10000:y_train.shape[0]]\n",
    "\n",
    "history = model.fit(\n",
    "    x_train, y_train,\n",
    "    epochs=20,\n",
    "    batch_size=32,\n",
    "    validation_data=(x_valid, y_valid)\n",
    ")"
   ]
  },
  {
   "cell_type": "markdown",
   "metadata": {},
   "source": [
    "# 4. Resulting plots"
   ]
  },
  {
   "cell_type": "code",
   "execution_count": 47,
   "metadata": {
    "ExecuteTime": {
     "end_time": "2024-05-28T14:17:54.431418Z",
     "start_time": "2024-05-28T14:17:54.221415100Z"
    }
   },
   "outputs": [
    {
     "data": {
      "text/plain": "<Axes: >"
     },
     "execution_count": 47,
     "metadata": {},
     "output_type": "execute_result"
    },
    {
     "data": {
      "text/plain": "<Figure size 640x480 with 1 Axes>",
      "image/png": "[encoded data removed]"
     },
     "metadata": {},
     "output_type": "display_data"
    },
    {
     "data": {
      "text/plain": "<Figure size 640x480 with 1 Axes>",
      "image/png": "[encoded data removed]"
     },
     "metadata": {},
     "output_type": "display_data"
    }
   ],
   "source": [
    "history_frame = pd.DataFrame(history.history)\n",
    "history_frame.loc[:,['loss','val_loss']].plot()\n",
    "history_frame.loc[:,['accuracy','val_accuracy']].plot()"
   ]
  },
  {
   "cell_type": "markdown",
   "metadata": {},
   "source": [
    "# 6. TEST PREPROCESSING + Model Prediction"
   ]
  },
  {
   "cell_type": "code",
   "execution_count": 29,
   "metadata": {},
   "outputs": [
    {
     "name": "stdout",
     "output_type": "stream",
     "text": [
      "\u001B[1m875/875\u001B[0m \u001B[32m━━━━━━━━━━━━━━━━━━━━\u001B[0m\u001B[37m\u001B[0m \u001B[1m2s\u001B[0m 2ms/step\n"
     ]
    }
   ],
   "source": [
    "# Predict classes\n",
    "predictions = model.predict(x_test)\n",
    "predicted_classes = np.argmax(predictions, axis=1)\n",
    "true_classes = np.argmax(y_test, axis=1)\n",
    "\n",
    "# Compute confusion matrix\n",
    "cm = confusion_matrix(true_classes, predicted_classes)\n",
    "\n",
    "# Plot confusion matrix\n",
    "plt.figure(figsize=(10, 8))\n",
    "sns.heatmap(cm, annot=True, fmt='d', cmap='Blues', xticklabels=range(10), yticklabels=range(10))\n",
    "plt.xlabel('Predicted Labels')\n",
    "plt.ylabel('True Labels')\n",
    "plt.title('Confusion Matrix')\n",
    "plt.show()"
   ]
  },
  {
   "cell_type": "code",
   "execution_count": 30,
   "metadata": {},
   "outputs": [
    {
     "data": {
      "text/plain": [
       "(28000, 1)"
      ]
     },
     "execution_count": 30,
     "metadata": {},
     "output_type": "execute_result"
    }
   ],
   "source": [
    "predicted_labels = np.argmax(cnn_preds,axis=1)\n",
    "predicted_labels.reshape(28000,1).shape"
   ]
  },
  {
   "cell_type": "markdown",
   "metadata": {},
   "source": [
    "# 7. SUBMISSION"
   ]
  },
  {
   "cell_type": "code",
   "execution_count": 31,
   "metadata": {},
   "outputs": [
    {
     "data": {
      "text/plain": [
       "array([[    1],\n",
       "       [    2],\n",
       "       [    3],\n",
       "       ...,\n",
       "       [27998],\n",
       "       [27999],\n",
       "       [28000]])"
      ]
     },
     "execution_count": 31,
     "metadata": {},
     "output_type": "execute_result"
    }
   ],
   "source": [
    "ids = np.arange(1,28001)\n",
    "ids.reshape(28000,1)"
   ]
  },
  {
   "cell_type": "code",
   "execution_count": 32,
   "metadata": {},
   "outputs": [],
   "source": [
    "submission_df = pd.DataFrame({\n",
    "    'ImageId':ids,\n",
    "    'Label':predicted_labels\n",
    "})"
   ]
  },
  {
   "cell_type": "code",
   "execution_count": 33,
   "metadata": {},
   "outputs": [],
   "source": [
    "submission_df.to_csv('submission.csv',index=False)"
   ]
  },
  {
   "cell_type": "code",
   "execution_count": null,
   "metadata": {},
   "outputs": [],
   "source": [
    "model.save('digit_recognizer.h5')"
   ]
  }
 ],
 "metadata": {
  "kernelspec": {
   "display_name": "Python 3",
   "language": "python",
   "name": "python3"
  },
  "language_info": {
   "codemirror_mode": {
    "name": "ipython",
    "version": 3
   },
   "file_extension": ".py",
   "mimetype": "text/x-python",
   "name": "python",
   "nbconvert_exporter": "python",
   "pygments_lexer": "ipython3",
   "version": "3.12.2"
  }
 },
 "nbformat": 4,
 "nbformat_minor": 2
}
